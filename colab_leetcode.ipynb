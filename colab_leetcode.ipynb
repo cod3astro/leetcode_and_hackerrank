{
  "nbformat": 4,
  "nbformat_minor": 0,
  "metadata": {
    "colab": {
      "provenance": [],
      "authorship_tag": "ABX9TyMRsfu3ltcSwXEiGPWfELYI",
      "include_colab_link": true
    },
    "kernelspec": {
      "name": "python3",
      "display_name": "Python 3"
    },
    "language_info": {
      "name": "python"
    }
  },
  "cells": [
    {
      "cell_type": "markdown",
      "metadata": {
        "id": "view-in-github",
        "colab_type": "text"
      },
      "source": [
        "<a href=\"https://colab.research.google.com/github/cod3astro/leetcode_and_hackerrank/blob/main/colab_leetcode.ipynb\" target=\"_parent\"><img src=\"https://colab.research.google.com/assets/colab-badge.svg\" alt=\"Open In Colab\"/></a>"
      ]
    },
    {
      "cell_type": "markdown",
      "source": [
        "\n",
        "Write a solution to find all dates' id with higher temperatures compared to its previous dates (yesterday).\n",
        "\n",
        "Return the result table in any order.\n",
        "\n",
        "The result format is in the following example.\n",
        "\n",
        "Example 1:\n",
        "\n",
        "Input:\n",
        "Weather table:\n",
        "+----+------------+-------------+\n",
        "| id | recordDate | temperature |\n",
        "+----+------------+-------------+\n",
        "| 1  | 2015-01-01 | 10          |\n",
        "| 2  | 2015-01-02 | 25          |\n",
        "| 3  | 2015-01-03 | 20          |\n",
        "| 4  | 2015-01-04 | 30          |\n",
        "+----+------------+-------------+\n",
        "Output:\n",
        "+----+\n",
        "| id |\n",
        "+----+\n",
        "| 2  |\n",
        "| 4  |\n",
        "+----+\n",
        "Explanation:\n",
        "In 2015-01-02, the temperature was higher than the previous day (10 -> 25).\n",
        "In 2015-01-04, the temperature was higher than the previous day (20 -> 30)."
      ],
      "metadata": {
        "id": "V0bPhDfCCJoe"
      }
    },
    {
      "cell_type": "code",
      "execution_count": null,
      "metadata": {
        "id": "77gXWVzFecxf"
      },
      "outputs": [],
      "source": [
        "import pandas as pd\n",
        "def rising_temperature(weather: pd.DataFrame) -> pd.DataFrame:\n",
        "  # Converting the date time from a string to a date time\n",
        "    weather[\"recordDate\"] = pd.to_datetime(weather[\"recordDate\"])\n",
        "\n",
        "  # pd.Timedelta(days=1) → Represents a time duration of 1 day\n",
        "  # Subtracting it from recordDate creates a new column yesterday\n",
        "  # This column represents \"yesterday’s date\" for each row\n",
        "    weather[\"yesterday\"] = weather[\"recordDate\"] - pd.Timedelta(days=1)\n",
        "\n",
        "  # It matches each day with its yesterday.\n",
        "  # left_on=\"yesterday\" → use the yesterday column from the left table\n",
        "  # right_on=\"recordDate\" → match it to the recordDate of the right table.\n",
        "  # Since we’re merging the table with itself, this is a self-join.\n",
        "  # suffixes=(\"\", \"_y\") → keeps today’s columns as-is, and renames yesterday’s columns (like temperature_y).\n",
        "    merged = weather.merge(weather, left_on=\"yesterday\", right_on=\"recordDate\", suffixes=(\"\", \"_y\"))\n",
        "\n",
        "  # Checks if the temperature for the present day is greater than the temperature of the previous day\n",
        "    result = merged.loc[merged[\"temperature\"] > merged[\"temperature_y\"], [\"id\"]]\n",
        "    return result\n"
      ]
    },
    {
      "cell_type": "markdown",
      "source": [
        "Write a solution to report the fraction of players that logged in again on the day after the day they first logged in, rounded to 2 decimal places. In other words, you need to determine the number of players who logged in on the day immediately following their initial login, and divide it by the number of total players.\n",
        "\n",
        "The result format is in the following example.\n",
        "\n",
        "\n",
        "\n",
        "Example 1:\n",
        "\n",
        "Input:\n",
        "Activity table:\n",
        "+-----------+-----------+------------+--------------+\n",
        "| player_id | device_id | event_date | games_played |\n",
        "+-----------+-----------+------------+--------------+\n",
        "| 1         | 2         | 2016-03-01 | 5            |\n",
        "| 1         | 2         | 2016-03-02 | 6            |\n",
        "| 2         | 3         | 2017-06-25 | 1            |\n",
        "| 3         | 1         | 2016-03-02 | 0            |\n",
        "| 3         | 4         | 2018-07-03 | 5            |\n",
        "+-----------+-----------+------------+--------------+\n",
        "Output:\n",
        "+-----------+\n",
        "| fraction  |\n",
        "+-----------+\n",
        "| 0.33      |\n",
        "+-----------+\n",
        "Explanation:\n",
        "Only the player with id 1 logged back in after the first day he had logged in so the answer is 1/3 = 0.33"
      ],
      "metadata": {
        "id": "pBOpRSR0Bh8z"
      }
    },
    {
      "cell_type": "code",
      "source": [
        "import pandas as pd\n",
        "\n",
        "def gameplay_analysis(activity: pd.DataFrame) -> pd.DataFrame:\n",
        "  # Convert the columns from string to a datetime column\n",
        "    activity['event_date'] = pd.to_datetime(activity['event_date'])\n",
        "  # Group the dataframe by player_id and return the min value of each group of event_date col, then assign it to a new var\n",
        "    first_login = activity.groupby('player_id')['event_date'].min().reset_index()\n",
        "  # Rename event_date column\n",
        "    first_login = first_login.rename(columns={'event_date': 'first_login'})\n",
        "  # Merge activity column with the first_login on the column 'player_id'\n",
        "    df = activity.merge(first_login, on='player_id')\n",
        "  # Create a new column which is a day + the next_day column\n",
        "    df['next_day'] = df['first_login'] + pd.Timedelta(days=1)\n",
        "  # Create a new boolean column named logged_next_day\n",
        "    df['logged_next_day'] = df['event_date'] == df['next_day']\n",
        "  # Group the dataframe by the new boolean column logged_next_day\n",
        "    players_logged_next_day = df.groupby('player_id')['logged_next_day'].any().sum()\n",
        "  # Get the unique values of the column \"player_id\" in the dataframe\n",
        "    total_players = df['player_id'].nunique()\n",
        "    fraction = round(players_logged_next_day / total_players, 2)\n",
        "    return pd.DataFrame({'fraction': [fraction]})"
      ],
      "metadata": {
        "id": "4a4hTMsCB11t"
      },
      "execution_count": null,
      "outputs": []
    }
  ]
}